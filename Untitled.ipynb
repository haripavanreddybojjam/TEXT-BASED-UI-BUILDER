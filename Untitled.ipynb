{
 "cells": [
  {
   "cell_type": "code",
   "execution_count": 21,
   "id": "8004cf0b-0a8c-4164-bfd1-9f56ee7c9199",
   "metadata": {},
   "outputs": [],
   "source": [
    "import spacy\n",
    "nlp_ner = spacy.load(\"D:\\pythonProject\\FInal\\model-last\")"
   ]
  },
  {
   "cell_type": "code",
   "execution_count": 28,
   "id": "ed39897c-4522-49cb-83aa-fd9d713b4644",
   "metadata": {},
   "outputs": [],
   "source": [
    "doc=nlp_ner('''I want a blue background with red and its size must be 12. \n",
    "            i want 2 checkboxes, a button ,a check button and font must be in Times New roman and 18 scroll bar''')"
   ]
  },
  {
   "cell_type": "code",
   "execution_count": 29,
   "id": "0a4d7de2-ef10-4f0f-94c7-1ac089836279",
   "metadata": {},
   "outputs": [
    {
     "data": {
      "text/html": [
       "<span class=\"tex2jax_ignore\"><div class=\"entities\" style=\"line-height: 2.5; direction: ltr\">I want a \n",
       "<mark class=\"entity\" style=\"background: #ddd; padding: 0.45em 0.6em; margin: 0 0.25em; line-height: 1; border-radius: 0.35em;\">\n",
       "    blue\n",
       "    <span style=\"font-size: 0.8em; font-weight: bold; line-height: 1; border-radius: 0.35em; vertical-align: middle; margin-left: 0.5rem\">BG</span>\n",
       "</mark>\n",
       " background with \n",
       "<mark class=\"entity\" style=\"background: #ddd; padding: 0.45em 0.6em; margin: 0 0.25em; line-height: 1; border-radius: 0.35em;\">\n",
       "    red\n",
       "    <span style=\"font-size: 0.8em; font-weight: bold; line-height: 1; border-radius: 0.35em; vertical-align: middle; margin-left: 0.5rem\">FG</span>\n",
       "</mark>\n",
       " and its size must be \n",
       "<mark class=\"entity\" style=\"background: #ddd; padding: 0.45em 0.6em; margin: 0 0.25em; line-height: 1; border-radius: 0.35em;\">\n",
       "    12.\n",
       "    <span style=\"font-size: 0.8em; font-weight: bold; line-height: 1; border-radius: 0.35em; vertical-align: middle; margin-left: 0.5rem\">FONT_SIZE</span>\n",
       "</mark>\n",
       " </br>            i want \n",
       "<mark class=\"entity\" style=\"background: #ddd; padding: 0.45em 0.6em; margin: 0 0.25em; line-height: 1; border-radius: 0.35em;\">\n",
       "    2\n",
       "    <span style=\"font-size: 0.8em; font-weight: bold; line-height: 1; border-radius: 0.35em; vertical-align: middle; margin-left: 0.5rem\">CHECK_BUTTON</span>\n",
       "</mark>\n",
       " checkboxes, \n",
       "<mark class=\"entity\" style=\"background: #ddd; padding: 0.45em 0.6em; margin: 0 0.25em; line-height: 1; border-radius: 0.35em;\">\n",
       "    a\n",
       "    <span style=\"font-size: 0.8em; font-weight: bold; line-height: 1; border-radius: 0.35em; vertical-align: middle; margin-left: 0.5rem\">BUTTON</span>\n",
       "</mark>\n",
       " button ,\n",
       "<mark class=\"entity\" style=\"background: #ddd; padding: 0.45em 0.6em; margin: 0 0.25em; line-height: 1; border-radius: 0.35em;\">\n",
       "    a\n",
       "    <span style=\"font-size: 0.8em; font-weight: bold; line-height: 1; border-radius: 0.35em; vertical-align: middle; margin-left: 0.5rem\">CHECK_BUTTON</span>\n",
       "</mark>\n",
       " check button and font must be in \n",
       "<mark class=\"entity\" style=\"background: #ddd; padding: 0.45em 0.6em; margin: 0 0.25em; line-height: 1; border-radius: 0.35em;\">\n",
       "    Times New roman\n",
       "    <span style=\"font-size: 0.8em; font-weight: bold; line-height: 1; border-radius: 0.35em; vertical-align: middle; margin-left: 0.5rem\">FONT</span>\n",
       "</mark>\n",
       " and \n",
       "<mark class=\"entity\" style=\"background: #ddd; padding: 0.45em 0.6em; margin: 0 0.25em; line-height: 1; border-radius: 0.35em;\">\n",
       "    18\n",
       "    <span style=\"font-size: 0.8em; font-weight: bold; line-height: 1; border-radius: 0.35em; vertical-align: middle; margin-left: 0.5rem\">SCROLL</span>\n",
       "</mark>\n",
       " scroll bar</div></span>"
      ],
      "text/plain": [
       "<IPython.core.display.HTML object>"
      ]
     },
     "metadata": {},
     "output_type": "display_data"
    }
   ],
   "source": [
    "\n",
    "spacy.displacy.render(doc, style=\"ent\", jupyter=True) \n"
   ]
  },
  {
   "cell_type": "code",
   "execution_count": 31,
   "id": "dfce2ee5-bcab-4936-9493-0c7575408935",
   "metadata": {},
   "outputs": [
    {
     "data": {
      "text/plain": [
       "(blue, red, 12., 2, a, a, Times New roman, 18)"
      ]
     },
     "execution_count": 31,
     "metadata": {},
     "output_type": "execute_result"
    }
   ],
   "source": [
    "doc.ents"
   ]
  },
  {
   "cell_type": "code",
   "execution_count": 39,
   "id": "a10ba7b5",
   "metadata": {},
   "outputs": [
    {
     "name": "stdout",
     "output_type": "stream",
     "text": [
      "13220136087446861289\n",
      "4978133995098047065\n",
      "10297649908391615997\n",
      "5516366738408559451\n",
      "2744996119758688390\n",
      "5516366738408559451\n",
      "5470274301351009111\n",
      "6264598467451258466\n"
     ]
    }
   ],
   "source": [
    "for i in doc.ents:\n",
    "    print(i.label)"
   ]
  },
  {
   "cell_type": "code",
   "execution_count": null,
   "id": "0b780ba5",
   "metadata": {},
   "outputs": [],
   "source": []
  }
 ],
 "metadata": {
  "kernelspec": {
   "display_name": "Python 3 (ipykernel)",
   "language": "python",
   "name": "python3"
  },
  "language_info": {
   "codemirror_mode": {
    "name": "ipython",
    "version": 3
   },
   "file_extension": ".py",
   "mimetype": "text/x-python",
   "name": "python",
   "nbconvert_exporter": "python",
   "pygments_lexer": "ipython3",
   "version": "3.7.7"
  }
 },
 "nbformat": 4,
 "nbformat_minor": 5
}
